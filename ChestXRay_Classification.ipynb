{
  "nbformat": 4,
  "nbformat_minor": 0,
  "metadata": {
    "colab": {
      "name": "ChestXRay Classification",
      "version": "0.3.2",
      "provenance": [],
      "collapsed_sections": [],
      "include_colab_link": true
    },
    "kernelspec": {
      "name": "python3",
      "display_name": "Python 3"
    },
    "accelerator": "GPU"
  },
  "cells": [
    {
      "cell_type": "markdown",
      "metadata": {
        "id": "view-in-github",
        "colab_type": "text"
      },
      "source": [
        "<a href=\"https://colab.research.google.com/github/MicroprocessorX069/Pneumonia-detection/blob/master/ChestXRay_Classification.ipynb\" target=\"_parent\"><img src=\"https://colab.research.google.com/assets/colab-badge.svg\" alt=\"Open In Colab\"/></a>"
      ]
    },
    {
      "metadata": {
        "id": "GwIn-U7FAWAS",
        "colab_type": "code",
        "outputId": "8927303b-5142-4212-9dd0-01c650f7a564",
        "colab": {
          "base_uri": "https://localhost:8080/",
          "height": 122
        }
      },
      "cell_type": "code",
      "source": [
        "from google.colab import drive\n",
        "drive.mount('/content/drive/')\n"
      ],
      "execution_count": 1,
      "outputs": [
        {
          "output_type": "stream",
          "text": [
            "Go to this URL in a browser: https://accounts.google.com/o/oauth2/auth?client_id=947318989803-6bn6qk8qdgf4n4g3pfee6491hc0brc4i.apps.googleusercontent.com&redirect_uri=urn%3Aietf%3Awg%3Aoauth%3A2.0%3Aoob&scope=email%20https%3A%2F%2Fwww.googleapis.com%2Fauth%2Fdocs.test%20https%3A%2F%2Fwww.googleapis.com%2Fauth%2Fdrive%20https%3A%2F%2Fwww.googleapis.com%2Fauth%2Fdrive.photos.readonly%20https%3A%2F%2Fwww.googleapis.com%2Fauth%2Fpeopleapi.readonly&response_type=code\n",
            "\n",
            "Enter your authorization code:\n",
            "··········\n",
            "Mounted at /content/drive/\n"
          ],
          "name": "stdout"
        }
      ]
    },
    {
      "metadata": {
        "id": "n29t2tWPvTUV",
        "colab_type": "code",
        "colab": {}
      },
      "cell_type": "code",
      "source": [
        "import torch \n",
        "import torchvision\n",
        "import torch.nn as nn\n",
        "import numpy as np\n",
        "import torchvision.transforms as transforms\n",
        "import torchvision.datasets as datasets\n",
        "import os"
      ],
      "execution_count": 0,
      "outputs": []
    },
    {
      "metadata": {
        "id": "C8p_UHRFvsKm",
        "colab_type": "code",
        "colab": {}
      },
      "cell_type": "code",
      "source": [
        "def loadTrainData(data_dir,resize=(224,224)):\n",
        "  data_transforms={\n",
        "      'train': transforms.Compose([\n",
        "          transforms.RandomResizedCrop(max(resize)),\n",
        "          transforms.RandomHorizontalFlip(),\n",
        "          transforms.ToTensor(),\n",
        "          transforms.Normalize([0.485,0.486,0.406],[0.229,0.224,0.225])\n",
        "      ]),\n",
        "      'val': transforms.Compose([\n",
        "          transforms.RandomResizedCrop(max(resize)),\n",
        "          transforms.RandomHorizontalFlip(),\n",
        "          transforms.ToTensor(),\n",
        "          transforms.Normalize([0.485,0.486,0.406],[0.229,0.224,0.225])\n",
        "      ])\n",
        "      \n",
        "  }\n",
        "  dataset={x:datasets.ImageFolder(os.path.join(data_dir,x),data_transforms[x])\n",
        "          for x in ['train','val']}\n",
        "  dataset_loader={x:torch.utils.data.DataLoader(dataset[x],\n",
        "                                                batch_size=5,\n",
        "                                               shuffle=True)\n",
        "                 for x in ['train','val']}\n",
        "  dataset_size={x:len(dataset[x]) for x in ['train','val']}\n",
        "  dataset_classes=dataset['train'].classes\n",
        "  return dataset_loader['train'],dataset_loader['val'],dataset['train']"
      ],
      "execution_count": 0,
      "outputs": []
    },
    {
      "metadata": {
        "id": "iDF8cKhsyrVn",
        "colab_type": "code",
        "colab": {}
      },
      "cell_type": "code",
      "source": [
        "data_dir=\"/content/drive/My Drive/Projects/Pneumonia detection/chest_xray/chest_xray/\"\n",
        "train_loader, val_loader,train_dataset=loadTrainData(data_dir)"
      ],
      "execution_count": 0,
      "outputs": []
    },
    {
      "metadata": {
        "id": "U_KUt-wu4Ftq",
        "colab_type": "code",
        "colab": {}
      },
      "cell_type": "code",
      "source": [
        "for (images,label) in train_loader:\n",
        "  print(label)"
      ],
      "execution_count": 0,
      "outputs": []
    },
    {
      "metadata": {
        "id": "Z02Y_7Qy5Cf8",
        "colab_type": "code",
        "colab": {
          "base_uri": "https://localhost:8080/",
          "height": 714
        },
        "outputId": "35691a16-ce84-47f8-9edc-4cb67e8aeb8a"
      },
      "cell_type": "code",
      "source": [
        "train_dataset[3000]"
      ],
      "execution_count": 36,
      "outputs": [
        {
          "output_type": "execute_result",
          "data": {
            "text/plain": [
              "(tensor([[[-1.1559e-02,  2.2690e-02,  2.2690e-02,  ...,  4.5081e-01,\n",
              "            4.5081e-01,  4.6793e-01],\n",
              "          [-2.8684e-02,  3.9815e-02,  5.5655e-03,  ...,  5.1931e-01,\n",
              "            4.3368e-01,  3.9943e-01],\n",
              "          [-4.5809e-02,  2.2690e-02,  5.5655e-03,  ...,  5.3643e-01,\n",
              "            4.6793e-01,  4.3368e-01],\n",
              "          ...,\n",
              "          [-3.0268e-01, -2.1706e-01, -2.6843e-01,  ...,  9.9880e-01,\n",
              "            1.0331e+00,  1.0331e+00],\n",
              "          [-2.3418e-01, -1.8281e-01, -1.4856e-01,  ...,  9.9880e-01,\n",
              "            1.0159e+00,  1.0159e+00],\n",
              "          [-2.3418e-01, -1.8281e-01, -1.1431e-01,  ...,  9.9880e-01,\n",
              "            1.0159e+00,  1.0331e+00]],\n",
              " \n",
              "         [[-1.6282e-02,  1.8732e-02,  1.8732e-02,  ...,  4.5641e-01,\n",
              "            4.5641e-01,  4.7391e-01],\n",
              "          [-3.3789e-02,  3.6239e-02,  1.2255e-03,  ...,  5.2644e-01,\n",
              "            4.3890e-01,  4.0389e-01],\n",
              "          [-5.1296e-02,  1.8732e-02,  1.2255e-03,  ...,  5.4394e-01,\n",
              "            4.7391e-01,  4.3890e-01],\n",
              "          ...,\n",
              "          [-3.1390e-01, -2.2637e-01, -2.7889e-01,  ...,  1.0166e+00,\n",
              "            1.0516e+00,  1.0516e+00],\n",
              "          [-2.4387e-01, -1.9135e-01, -1.5634e-01,  ...,  1.0166e+00,\n",
              "            1.0341e+00,  1.0341e+00],\n",
              "          [-2.4387e-01, -1.9135e-01, -1.2132e-01,  ...,  1.0166e+00,\n",
              "            1.0341e+00,  1.0516e+00]],\n",
              " \n",
              "         [[ 3.3935e-01,  3.7420e-01,  3.7420e-01,  ...,  8.0993e-01,\n",
              "            8.0993e-01,  8.2736e-01],\n",
              "          [ 3.2192e-01,  3.9163e-01,  3.5678e-01,  ...,  8.7965e-01,\n",
              "            7.9251e-01,  7.5765e-01],\n",
              "          [ 3.0449e-01,  3.7420e-01,  3.5678e-01,  ...,  8.9708e-01,\n",
              "            8.2736e-01,  7.9251e-01],\n",
              "          ...,\n",
              "          [ 4.3050e-02,  1.3020e-01,  7.7909e-02,  ...,  1.3677e+00,\n",
              "            1.4025e+00,  1.4025e+00],\n",
              "          [ 1.1277e-01,  1.6505e-01,  1.9991e-01,  ...,  1.3677e+00,\n",
              "            1.3851e+00,  1.3851e+00],\n",
              "          [ 1.1277e-01,  1.6505e-01,  2.3477e-01,  ...,  1.3677e+00,\n",
              "            1.3851e+00,  1.4025e+00]]]), 1)"
            ]
          },
          "metadata": {
            "tags": []
          },
          "execution_count": 36
        }
      ]
    },
    {
      "metadata": {
        "id": "nzSNNEYnzVkt",
        "colab_type": "code",
        "colab": {
          "base_uri": "https://localhost:8080/",
          "height": 34
        },
        "outputId": "22f4b4d3-59cf-4be2-b100-a93d469d1ff2"
      },
      "cell_type": "code",
      "source": [
        "train_dataset"
      ],
      "execution_count": 10,
      "outputs": [
        {
          "output_type": "execute_result",
          "data": {
            "text/plain": [
              "['NORMAL', 'PNEUMONIA']"
            ]
          },
          "metadata": {
            "tags": []
          },
          "execution_count": 10
        }
      ]
    }
  ]
}